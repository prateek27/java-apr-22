{
 "cells": [
  {
   "cell_type": "code",
   "execution_count": 8,
   "id": "7aec359f",
   "metadata": {},
   "outputs": [],
   "source": [
    "# Python Code "
   ]
  },
  {
   "cell_type": "code",
   "execution_count": 2,
   "id": "f5f7cfcb",
   "metadata": {},
   "outputs": [
    {
     "name": "stdout",
     "output_type": "stream",
     "text": [
      "7 5\n",
      "10 2\n"
     ]
    }
   ],
   "source": [
    "arr = [3,5,2,7,10,8,20,6]\n",
    "\n",
    "hs = {}\n",
    "TS = 12\n",
    "\n",
    "for x in arr:\n",
    "    A = x\n",
    "    B = TS - A\n",
    "    \n",
    "    if B in hs:\n",
    "        print(A,B)\n",
    "    #Adding to dictionary/hashmap    \n",
    "    hs[A] = True"
   ]
  },
  {
   "cell_type": "code",
   "execution_count": 7,
   "id": "79064a0b",
   "metadata": {},
   "outputs": [
    {
     "name": "stdout",
     "output_type": "stream",
     "text": [
      "7 5\n",
      "10 2\n"
     ]
    }
   ],
   "source": [
    "arr = [3,5,2,7,10,8,20,6]\n",
    "\n",
    "hs = set()\n",
    "TS = 12\n",
    "\n",
    "for x in arr:\n",
    "    A = x\n",
    "    B = TS - A\n",
    "    \n",
    "    if B in hs:\n",
    "        print(A,B)\n",
    "    #Adding to hashset   \n",
    "    hs.add(A)"
   ]
  },
  {
   "cell_type": "code",
   "execution_count": null,
   "id": "503672be",
   "metadata": {},
   "outputs": [],
   "source": []
  },
  {
   "cell_type": "code",
   "execution_count": null,
   "id": "90578090",
   "metadata": {},
   "outputs": [],
   "source": []
  },
  {
   "cell_type": "code",
   "execution_count": 9,
   "id": "186830c4",
   "metadata": {},
   "outputs": [],
   "source": [
    "hm = { 2:2, 3:1}\n",
    "\n",
    "if 4 in hm:\n",
    "    hm[4] +=1\n",
    "else:\n",
    "    hm[4] = 1"
   ]
  },
  {
   "cell_type": "code",
   "execution_count": 10,
   "id": "d10feb5b",
   "metadata": {},
   "outputs": [
    {
     "data": {
      "text/plain": [
       "{2: 2, 3: 1, 4: 1}"
      ]
     },
     "execution_count": 10,
     "metadata": {},
     "output_type": "execute_result"
    }
   ],
   "source": [
    "hm"
   ]
  },
  {
   "cell_type": "code",
   "execution_count": 11,
   "id": "bfe0a55a",
   "metadata": {},
   "outputs": [],
   "source": [
    "if 4 in hm:\n",
    "    hm[4] +=1\n",
    "else:\n",
    "    hm[4] = 1"
   ]
  },
  {
   "cell_type": "code",
   "execution_count": 12,
   "id": "05016a6f",
   "metadata": {},
   "outputs": [
    {
     "data": {
      "text/plain": [
       "{2: 2, 3: 1, 4: 2}"
      ]
     },
     "execution_count": 12,
     "metadata": {},
     "output_type": "execute_result"
    }
   ],
   "source": [
    "hm"
   ]
  },
  {
   "cell_type": "code",
   "execution_count": 15,
   "id": "5ca1e903",
   "metadata": {},
   "outputs": [],
   "source": [
    "hm[2] -= 1"
   ]
  },
  {
   "cell_type": "code",
   "execution_count": 16,
   "id": "e6baae26",
   "metadata": {},
   "outputs": [
    {
     "data": {
      "text/plain": [
       "{2: 0, 3: 1, 4: 2}"
      ]
     },
     "execution_count": 16,
     "metadata": {},
     "output_type": "execute_result"
    }
   ],
   "source": [
    "hm"
   ]
  },
  {
   "cell_type": "code",
   "execution_count": 18,
   "id": "88f09cb4",
   "metadata": {},
   "outputs": [],
   "source": [
    "if hm[2] == 0:\n",
    "    hm.pop(2)"
   ]
  },
  {
   "cell_type": "code",
   "execution_count": 19,
   "id": "e5a1aa8b",
   "metadata": {},
   "outputs": [
    {
     "data": {
      "text/plain": [
       "{3: 1, 4: 2}"
      ]
     },
     "execution_count": 19,
     "metadata": {},
     "output_type": "execute_result"
    }
   ],
   "source": [
    "hm"
   ]
  },
  {
   "cell_type": "code",
   "execution_count": 21,
   "id": "27895b1f",
   "metadata": {},
   "outputs": [
    {
     "data": {
      "text/plain": [
       "2"
      ]
     },
     "execution_count": 21,
     "metadata": {},
     "output_type": "execute_result"
    }
   ],
   "source": [
    "len(hm.keys())"
   ]
  },
  {
   "cell_type": "code",
   "execution_count": 22,
   "id": "afd7cb55",
   "metadata": {},
   "outputs": [
    {
     "data": {
      "text/plain": [
       "2"
      ]
     },
     "execution_count": 22,
     "metadata": {},
     "output_type": "execute_result"
    }
   ],
   "source": [
    "len(hm)"
   ]
  },
  {
   "cell_type": "code",
   "execution_count": null,
   "id": "8e651642",
   "metadata": {},
   "outputs": [],
   "source": []
  }
 ],
 "metadata": {
  "kernelspec": {
   "display_name": "Python 3 (ipykernel)",
   "language": "python",
   "name": "python3"
  },
  "language_info": {
   "codemirror_mode": {
    "name": "ipython",
    "version": 3
   },
   "file_extension": ".py",
   "mimetype": "text/x-python",
   "name": "python",
   "nbconvert_exporter": "python",
   "pygments_lexer": "ipython3",
   "version": "3.8.2"
  }
 },
 "nbformat": 4,
 "nbformat_minor": 5
}
