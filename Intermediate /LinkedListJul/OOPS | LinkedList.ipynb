{
 "cells": [
  {
   "cell_type": "markdown",
   "id": "b0f2fe7b",
   "metadata": {},
   "source": [
    "### Basics"
   ]
  },
  {
   "cell_type": "code",
   "execution_count": 27,
   "id": "4e638ae9",
   "metadata": {},
   "outputs": [],
   "source": [
    "class Node:\n",
    "    # define a constructor \n",
    "    def __init__(self,a=0,b=0):\n",
    "        self.number1 = a\n",
    "        self.number2 = b\n",
    "        \n",
    "    def display(self):\n",
    "        print(self.number1,self.number2)\n",
    "    \n",
    "    "
   ]
  },
  {
   "cell_type": "code",
   "execution_count": 22,
   "id": "511cffe6",
   "metadata": {},
   "outputs": [],
   "source": [
    "n1 = Node(11,12)"
   ]
  },
  {
   "cell_type": "code",
   "execution_count": 23,
   "id": "a6e7d23d",
   "metadata": {},
   "outputs": [
    {
     "name": "stdout",
     "output_type": "stream",
     "text": [
      "11 12\n"
     ]
    }
   ],
   "source": [
    "n1.display()"
   ]
  },
  {
   "cell_type": "code",
   "execution_count": 24,
   "id": "61fbd060",
   "metadata": {},
   "outputs": [
    {
     "name": "stdout",
     "output_type": "stream",
     "text": [
      "20 30\n"
     ]
    }
   ],
   "source": [
    "n2 = Node(20,30)\n",
    "n2.display()"
   ]
  },
  {
   "cell_type": "code",
   "execution_count": 26,
   "id": "7ac1e90c",
   "metadata": {},
   "outputs": [
    {
     "name": "stdout",
     "output_type": "stream",
     "text": [
      "5 0\n"
     ]
    }
   ],
   "source": [
    "n3 = Node(5)\n",
    "n3.display()"
   ]
  },
  {
   "cell_type": "code",
   "execution_count": 28,
   "id": "f5e90f8b",
   "metadata": {},
   "outputs": [
    {
     "name": "stdout",
     "output_type": "stream",
     "text": [
      "0 0\n"
     ]
    }
   ],
   "source": [
    "n4 = Node()\n",
    "n4.display()"
   ]
  },
  {
   "cell_type": "markdown",
   "id": "201d5bd6",
   "metadata": {},
   "source": [
    "### Linked List"
   ]
  },
  {
   "cell_type": "markdown",
   "id": "8cd7b01b",
   "metadata": {},
   "source": [
    "##### Node Class"
   ]
  },
  {
   "cell_type": "code",
   "execution_count": 30,
   "id": "68d20904",
   "metadata": {},
   "outputs": [],
   "source": [
    "class Node:\n",
    "    def __init__(self,data,next=None):\n",
    "        self.data = data\n",
    "        self.next = next"
   ]
  },
  {
   "cell_type": "markdown",
   "id": "d82da0d3",
   "metadata": {},
   "source": [
    "#### Linked Using Functions"
   ]
  },
  {
   "cell_type": "code",
   "execution_count": 75,
   "id": "0ec10b75",
   "metadata": {},
   "outputs": [],
   "source": [
    "def insertAtHead(head,data):\n",
    "    if head == None:\n",
    "        return Node(data)\n",
    "    n = Node(data)\n",
    "    n.next = head\n",
    "    head = n\n",
    "    return head\n",
    "\n",
    "def printLL(start):\n",
    "    while start!=None:\n",
    "        print(str(start.data) +\"->\",end=\"\")\n",
    "        start = start.next\n",
    "\n",
    "def length(start):\n",
    "    cnt = 0\n",
    "    while start!=None:\n",
    "        cnt = cnt + 1\n",
    "        start = start.next\n",
    "    return cnt"
   ]
  },
  {
   "cell_type": "code",
   "execution_count": 76,
   "id": "fc9b1e61",
   "metadata": {},
   "outputs": [],
   "source": [
    "head = Node(1)\n",
    "tail = head\n",
    "\n",
    "tail.next = Node(2)\n",
    "tail = tail.next\n",
    "\n",
    "tail.next = Node(3)\n",
    "tail = tail.next\n",
    "\n",
    "tail.next = Node(4)\n",
    "tail = tail.next"
   ]
  },
  {
   "cell_type": "code",
   "execution_count": 70,
   "id": "a7f6e283",
   "metadata": {},
   "outputs": [
    {
     "name": "stdout",
     "output_type": "stream",
     "text": [
      "1->2->3->4->"
     ]
    }
   ],
   "source": [
    "printLL(head)"
   ]
  },
  {
   "cell_type": "code",
   "execution_count": 71,
   "id": "12480a01",
   "metadata": {},
   "outputs": [
    {
     "data": {
      "text/plain": [
       "4"
      ]
     },
     "execution_count": 71,
     "metadata": {},
     "output_type": "execute_result"
    }
   ],
   "source": [
    "length(head)"
   ]
  },
  {
   "cell_type": "code",
   "execution_count": 72,
   "id": "6c92fde1",
   "metadata": {},
   "outputs": [],
   "source": [
    "head = insertAtHead(head,0)"
   ]
  },
  {
   "cell_type": "code",
   "execution_count": 73,
   "id": "4cd0a6fa",
   "metadata": {},
   "outputs": [
    {
     "name": "stdout",
     "output_type": "stream",
     "text": [
      "0->1->2->3->4->"
     ]
    }
   ],
   "source": [
    "printLL(head)"
   ]
  },
  {
   "cell_type": "code",
   "execution_count": null,
   "id": "2bfabe17",
   "metadata": {},
   "outputs": [],
   "source": []
  }
 ],
 "metadata": {
  "kernelspec": {
   "display_name": "Python 3 (ipykernel)",
   "language": "python",
   "name": "python3"
  },
  "language_info": {
   "codemirror_mode": {
    "name": "ipython",
    "version": 3
   },
   "file_extension": ".py",
   "mimetype": "text/x-python",
   "name": "python",
   "nbconvert_exporter": "python",
   "pygments_lexer": "ipython3",
   "version": "3.8.2"
  }
 },
 "nbformat": 4,
 "nbformat_minor": 5
}
