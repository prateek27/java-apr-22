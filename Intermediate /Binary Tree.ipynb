{
 "cells": [
  {
   "cell_type": "code",
   "execution_count": 1,
   "id": "621a34dd",
   "metadata": {},
   "outputs": [],
   "source": [
    "class Node:\n",
    "    def __init__(self,data):\n",
    "        self.data = data\n",
    "        left = None\n",
    "        right = None"
   ]
  },
  {
   "cell_type": "code",
   "execution_count": 42,
   "id": "722b9d89",
   "metadata": {},
   "outputs": [],
   "source": [
    "class BinaryTree:\n",
    "    def __init__(self):\n",
    "        self.root = self.buildTree()\n",
    "        \n",
    "    def buildTree(self):\n",
    "        data = int(input()) # sc.nextInt() in java\n",
    "        #base case \n",
    "        if data==-1:\n",
    "            return None\n",
    "        \n",
    "        n = Node(data)\n",
    "        n.left = self.buildTree()\n",
    "        n.right = self.buildTree()\n",
    "        return n\n",
    "    \n",
    "    def print(self):\n",
    "        self.preOrderPrint(self.root)\n",
    "        \n",
    "    def preOrderPrint(self,root):\n",
    "        if root==None:\n",
    "            return \n",
    "        \n",
    "        print(root.data)\n",
    "        self.preOrderPrint(root.left)\n",
    "        self.preOrderPrint(root.right)\n",
    "        \n",
    "    def height():\n",
    "        \n",
    "    def heightHelper():\n",
    "        "
   ]
  },
  {
   "cell_type": "code",
   "execution_count": null,
   "id": "76fc941d",
   "metadata": {},
   "outputs": [
    {
     "name": "stdout",
     "output_type": "stream",
     "text": [
      "1\n"
     ]
    }
   ],
   "source": [
    "tree = BinaryTree()"
   ]
  },
  {
   "cell_type": "code",
   "execution_count": 47,
   "id": "34a8cad0",
   "metadata": {},
   "outputs": [
    {
     "name": "stdout",
     "output_type": "stream",
     "text": [
      "1\n",
      "2\n",
      "3\n"
     ]
    }
   ],
   "source": [
    "tree.print()\n",
    "\n"
   ]
  },
  {
   "cell_type": "code",
   "execution_count": null,
   "id": "c9839d17",
   "metadata": {},
   "outputs": [],
   "source": [
    "1 2 3 -1 -1 4 -1 -1 5 -1 6 7 -1 9 -1 -1 8 -1 -1"
   ]
  },
  {
   "cell_type": "code",
   "execution_count": null,
   "id": "36ddcbe3",
   "metadata": {},
   "outputs": [],
   "source": []
  }
 ],
 "metadata": {
  "kernelspec": {
   "display_name": "Python 3 (ipykernel)",
   "language": "python",
   "name": "python3"
  },
  "language_info": {
   "codemirror_mode": {
    "name": "ipython",
    "version": 3
   },
   "file_extension": ".py",
   "mimetype": "text/x-python",
   "name": "python",
   "nbconvert_exporter": "python",
   "pygments_lexer": "ipython3",
   "version": "3.8.2"
  }
 },
 "nbformat": 4,
 "nbformat_minor": 5
}
